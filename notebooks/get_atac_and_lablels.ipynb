{
 "cells": [
  {
   "cell_type": "code",
   "execution_count": 3,
   "metadata": {
    "collapsed": false
   },
   "outputs": [
    {
     "name": "stdout",
     "output_type": "stream",
     "text": [
      "The autoreload extension is already loaded. To reload it, use:\n",
      "  %reload_ext autoreload\n"
     ]
    }
   ],
   "source": [
    "%matplotlib inline\n",
    "%load_ext autoreload\n",
    "%autoreload 2\n",
    "\n",
    "from bed_manipulate import get_bait_bait_contacts, get_atac_bins_at_1kb, get_HindIII_ContactPairs, get_2D_atac_labels, get_contacts_at_distance"
   ]
  },
  {
   "cell_type": "markdown",
   "metadata": {},
   "source": [
    "# D0 "
   ]
  },
  {
   "cell_type": "code",
   "execution_count": 2,
   "metadata": {
    "collapsed": true
   },
   "outputs": [],
   "source": [
    "DATADIR='/users/mtaranov/3D_fromATAC/data/'\n",
    "PromoterCapture_file=DATADIR+'PromoterCapture_Digest_Human_HindIII_baits_ID.bed'\n",
    "# D0 files\n",
    "# original was sorted with sort -k 1,1 -k2,2n\n",
    "atacPeak_D0_file=DATADIR+'SORTED_primary_keratinocyte-d00.GGR.Stanford_Greenleaf.ATAC-seq.b1.trim.PE2SE.nodup.tn5_pooled.pf.pval0.1.500000.naive_overlap.narrowPeak.gz'\n",
    "CaptureContacts_D0_file='/mnt/lab_data/kundaje/mtaranov/ChicagoCalls/superConfident_bait_bait_fromAdam/humKer_Sub_D2D8_merge.bed'\n",
    "site1_D0_file=DATADIR+'site1_D0.tmp'\n",
    "site2_D0_file=DATADIR+'site2_D0.tmp'\n",
    "CaptureC_bait_bait_D0_file=DATADIR+'CaptureC_bait-bait_D0.bed'\n",
    "atac_1kb_bins_D0_file=DATADIR+'atac_1kb_bins_D0.bed'\n",
    "atac_1kb_contacts_w_labels_D0_file = DATADIR+'atac_1kb_contacts_w_labels_D0.bed'\n",
    "atac_1kb_contacts_w_labels_btw_10kb_2Mb_D0_file = DATADIR+'atac_1kb_contacts_w_labels_btw_10kb_2Mb_D0.bed'"
   ]
  },
  {
   "cell_type": "code",
   "execution_count": 9,
   "metadata": {
    "collapsed": false
   },
   "outputs": [],
   "source": [
    "# intersects atac-peak file with promoter-capture file\n",
    "# assigns each peak summit to a HindIII\n",
    "# outputs 1kb regions aroud peak summit and corresponding HindIII number - atac_1kb_bins_D0_file\n",
    "get_atac_bins_at_1kb(atacPeak_D0_file, PromoterCapture_file, atac_1kb_bins_D0_file, bed_out=False, bed_out_name='',  f=0.5, F=0.5, e=True, wo=True)"
   ]
  },
  {
   "cell_type": "markdown",
   "metadata": {},
   "source": [
    "### for contacts with q-score > 5"
   ]
  },
  {
   "cell_type": "code",
   "execution_count": 5,
   "metadata": {
    "collapsed": false
   },
   "outputs": [],
   "source": [
    "# pulls bait-bait contacts from all-all capture contacts\n",
    "# these are positive lables\n",
    "# outputs CaptureC_bait_bait_D0_file\n",
    "get_bait_bait_contacts(CaptureContacts_D0_file, PromoterCapture_file, CaptureC_bait_bait_D0_file, site1_D0_file, site2_D0_file)"
   ]
  },
  {
   "cell_type": "code",
   "execution_count": 6,
   "metadata": {
    "collapsed": true
   },
   "outputs": [],
   "source": [
    "# gets dict with key=chr and val=list of HindIII contact pairs for each chr\n",
    "HindIII_ContactPairs_D0=get_HindIII_ContactPairs(CaptureC_bait_bait_D0_file)"
   ]
  },
  {
   "cell_type": "code",
   "execution_count": 7,
   "metadata": {
    "collapsed": false
   },
   "outputs": [],
   "source": [
    "# assigns 1/0 labels to atac_bin interactions\n",
    "# outputs atac_1kb_contacts_w_labels_D0_file\n",
    "get_2D_atac_labels(atac_1kb_bins_D0_file, HindIII_ContactPairs_D0, atac_1kb_contacts_w_labels_D0_file)"
   ]
  },
  {
   "cell_type": "code",
   "execution_count": 4,
   "metadata": {
    "collapsed": true
   },
   "outputs": [],
   "source": [
    "thres_min, thres_max =10000, 2000000\n",
    "get_contacts_at_distance(atac_1kb_contacts_w_labels_D0_file, thres_min, thres_max, atac_1kb_contacts_w_labels_btw_10kb_2Mb_D0_file)"
   ]
  },
  {
   "cell_type": "markdown",
   "metadata": {},
   "source": [
    "# D3"
   ]
  },
  {
   "cell_type": "code",
   "execution_count": null,
   "metadata": {
    "collapsed": true
   },
   "outputs": [],
   "source": [
    "# D3 files\n",
    "# original was sorted with sort -k 1,1 -k2,2n\n",
    "atacPeak_D3_file=DATADIR+'SORTED_primary_keratinocyte-d30.GGR.Stanford_Greenleaf.ATAC-seq.b1.trim.PE2SE.nodup.tn5_pooled.pf.pval0.1.500000.naive_overlap.narrowPeak.gz'\n",
    "CaptureContacts_D3_file='/mnt/lab_data/kundaje/mtaranov/ChicagoCalls/superConfident_bait_bait_fromAdam/humKer_3Days_D2D8_merge.bed'\n",
    "site1_D3_file=DATADIR+'site1_D3.tmp'\n",
    "site2_D3_file=DATADIR+'site2_D3.tmp'\n",
    "CaptureC_bait_bait_D3_file=DATADIR+'CaptureC_bait-bait_D3.bed'\n",
    "atac_1kb_bins_D3_file=DATADIR+'atac_1kb_bins_D3.bed'\n",
    "atac_1kb_contacts_w_labels_D3_file = DATADIR+'atac_1kb_contacts_w_labels_D3.bed'"
   ]
  },
  {
   "cell_type": "code",
   "execution_count": null,
   "metadata": {
    "collapsed": true
   },
   "outputs": [],
   "source": []
  }
 ],
 "metadata": {
  "kernelspec": {
   "display_name": "Python 2",
   "language": "python",
   "name": "python2"
  },
  "language_info": {
   "codemirror_mode": {
    "name": "ipython",
    "version": 2
   },
   "file_extension": ".py",
   "mimetype": "text/x-python",
   "name": "python",
   "nbconvert_exporter": "python",
   "pygments_lexer": "ipython2",
   "version": "2.7.11"
  }
 },
 "nbformat": 4,
 "nbformat_minor": 0
}
